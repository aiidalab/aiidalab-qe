{
 "cells": [
  {
   "cell_type": "code",
   "execution_count": null,
   "id": "binary-cinema",
   "metadata": {},
   "outputs": [],
   "source": [
    "from aiida import load_profile\n",
    "\n",
    "load_profile()\n",
    "\n",
    "from aiida.orm import load_node"
   ]
  },
  {
   "cell_type": "code",
   "execution_count": null,
   "id": "worth-block",
   "metadata": {},
   "outputs": [],
   "source": [
    "from aiidalab_widgets_base import viewer\n",
    "import node_view\n",
    "\n",
    "\n",
    "node = load_node(4619)\n",
    "\n",
    "viewer(node)"
   ]
  }
 ],
 "metadata": {
  "kernelspec": {
   "display_name": "Python 3",
   "language": "python",
   "name": "python3"
  },
  "language_info": {
   "codemirror_mode": {
    "name": "ipython",
    "version": 3
   },
   "file_extension": ".py",
   "mimetype": "text/x-python",
   "name": "python",
   "nbconvert_exporter": "python",
   "pygments_lexer": "ipython3",
   "version": "3.7.4"
  }
 },
 "nbformat": 4,
 "nbformat_minor": 5
}
