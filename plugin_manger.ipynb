{
 "cells": [
  {
   "cell_type": "code",
   "execution_count": null,
   "metadata": {
    "vscode": {
     "languageId": "javascript"
    }
   },
   "outputs": [],
   "source": [
    "%%javascript\n",
    "IPython.OutputArea.prototype._should_scroll = function(lines) {\n",
    "    return false;\n",
    "}\n",
    "document.title='AiiDAlab QE | Manage plugins'"
   ]
  },
  {
   "cell_type": "code",
   "execution_count": null,
   "metadata": {},
   "outputs": [],
   "source": [
    "%%capture\n",
    "from aiida import load_profile\n",
    "\n",
    "load_profile()"
   ]
  },
  {
   "cell_type": "code",
   "execution_count": null,
   "metadata": {},
   "outputs": [],
   "source": [
    "from aiidalab_widgets_base.utils.loaders import load_css\n",
    "\n",
    "load_css(css_path=\"src/aiidalab_qe/app/static/styles\")"
   ]
  },
  {
   "cell_type": "markdown",
   "metadata": {},
   "source": [
    "# AiiDAlab Quantum ESPRESSO - Plugin manager\n",
    "\n",
    "This page lets you manage the plugins of the AiiDAlab Quantum ESPRESSO app. You can find below all plugins available in the official [AiiDAlab Quantum ESPRESSO plugin registry](https://github.com/aiidalab/aiidalab-qe/blob/main/plugins.yaml) (click [here](https://aiidalab-qe.readthedocs.io/development/plugin_registry.html) to learn how to register a new plugin, if you are developing one). You can install and uninstall plugins from this page.\n",
    "\n",
    "## Plugin status explanation\n",
    "\n",
    "Each plugin has a **status badge** indicating its current development stage:  \n",
    "\n",
    "| **Status**        | **Meaning** |\n",
    "|-------------------|------------|\n",
    "| 🟠 **Experimental** | The plugin is in an early stage of development and may be unstable. Expect rapid changes and potential issues. |\n",
    "| 🟡 **Beta** | The plugin is functional and being tested, but some features may still be refined. |\n",
    "| 🔵 **Stable** | The plugin is feature-complete, has undergone significant testing, and is considered reliable for most use cases. Minor updates or bug fixes may still occur. |\n",
    "| 🟢 **Production** | The plugin is fully stable, widely tested, and officially recommended for all users. It follows strict maintenance and support policies. |\n",
    "\n",
    "### Available plugins\n"
   ]
  },
  {
   "cell_type": "code",
   "execution_count": null,
   "metadata": {},
   "outputs": [],
   "source": [
    "from plugin_manager import PluginManager\n",
    "\n",
    "# Create an instance of the manager using the default \"plugins.yaml\"\n",
    "pm = PluginManager(\"plugins.yaml\")\n",
    "\n",
    "# Display the UI for managing plugins\n",
    "pm.display_ui()"
   ]
  }
 ],
 "metadata": {
  "kernelspec": {
   "display_name": "base",
   "language": "python",
   "name": "python3"
  },
  "language_info": {
   "codemirror_mode": {
    "name": "ipython",
    "version": 3
   },
   "file_extension": ".py",
   "mimetype": "text/x-python",
   "name": "python",
   "nbconvert_exporter": "python",
   "pygments_lexer": "ipython3",
   "version": "3.9.13"
  }
 },
 "nbformat": 4,
 "nbformat_minor": 2
}
