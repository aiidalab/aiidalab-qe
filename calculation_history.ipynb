{
 "cells": [
  {
   "cell_type": "code",
   "execution_count": null,
   "metadata": {},
   "outputs": [],
   "source": [
    "import ipywidgets as ipw\n",
    "\n",
    "how_to = ipw.HTML(\n",
    "    \"\"\"\n",
    "    <style>\n",
    "        .page-title {\n",
    "            font-family: Arial, sans-serif;\n",
    "            font-size: 28px;\n",
    "            color: #2c3e50;\n",
    "            margin-top: 0;\n",
    "            margin-bottom: 20px;\n",
    "        }\n",
    "        .how-to-section {\n",
    "            font-family: Arial, sans-serif;\n",
    "            background-color: #f9f9f9;\n",
    "            border: 1px solid #ddd;\n",
    "            border-radius: 8px;\n",
    "            padding: 15px 20px;\n",
    "            margin-bottom: 20px;\n",
    "            box-shadow: 0 2px 5px rgba(0, 0, 0, 0.1);\n",
    "        }\n",
    "        .how-to-section h2 {\n",
    "            color: #2c3e50;\n",
    "            font-size: 24px;\n",
    "            margin-top: 0;\n",
    "        }\n",
    "        .how-to-section p {\n",
    "            font-size: 14px;\n",
    "            color: #7f8c8d;\n",
    "            line-height: 1.6;\n",
    "        }\n",
    "        .how-to-section ul {\n",
    "            list-style-type: disc;\n",
    "            padding-left: 20px;\n",
    "        }\n",
    "        .how-to-section ul li {\n",
    "            font-size: 14px;\n",
    "            color: #34495e;\n",
    "            margin-bottom: 8px;\n",
    "        }\n",
    "        .how-to-section ul li b {\n",
    "            color: #2c3e50;\n",
    "        }\n",
    "    </style>\n",
    "    <div class=\"page-title\">Calculation history</div>\n",
    "    <div class=\"how-to-section\">\n",
    "        <h2>How to use this page</h2>\n",
    "        <p>\n",
    "            This page allows you to view, filter, sort, and manage your calculation history.\n",
    "        </p>\n",
    "        <h4>Filters and search</h4>\n",
    "        <ul>\n",
    "            <li><b>Quick search field:</b> Use the search bar above the table to find jobs by any visible field.</li>\n",
    "            <li><b>Column-specific filters:</b> Filter data directly in each column using their respective filter options.</li>\n",
    "            <li><b>Job state dropdown:</b> Filter jobs by their state (e.g., Finished, Running).</li>\n",
    "            <li><b>Date range picker:</b> Select a start and end date to narrow down jobs based on creation date.</li>\n",
    "            <li><b>Properties filter:</b> Select one or more properties to narrow the results. Only calculations that include all the selected properties will be displayed. Leave all checkboxes unselected to include calculations regardless of their properties.</li>\n",
    "        </ul>\n",
    "        <h4>Table actions</h4>\n",
    "        <ul>\n",
    "            <li><b>Editable fields:</b> Edit the <b>label</b> and <b>description</b> of a job directly by clicking on the respective fields.</li>\n",
    "            <li><b>Inspect:</b> Click on a job's ID link to view detailed information.</li>\n",
    "            <li><b>Delete:</b> Remove a job by clicking the \"Delete\" link in its row. A confirmation page will be opened.</li>\n",
    "            <li><b>Download:</b> Download raw data (i.e. input and output files) and/or the AiiDA archive of a job using the \"Download\" link.</li>\n",
    "        </ul>\n",
    "        <h4>Display options</h4>\n",
    "        <ul>\n",
    "            <li><b>Sorting:</b> Click any column header to sort the table by that column.</li>\n",
    "            <li><b>Column management:</b> Show, hide columns to customize the table view.</li>\n",
    "            <li><b>Time format:</b> Toggle between \"Absolute\" (specific dates) and \"Relative\" (time elapsed).</li>\n",
    "            <li><b>ID format:</b> Switch between \"PK\" or \"UUID\" for job identification.</li>\n",
    "        </ul>\n",
    "    </div>\n",
    "    \"\"\"\n",
    ")\n",
    "\n",
    "how_to"
   ]
  },
  {
   "cell_type": "code",
   "execution_count": null,
   "metadata": {},
   "outputs": [],
   "source": [
    "%%capture\n",
    "from aiida import load_profile\n",
    "\n",
    "load_profile()"
   ]
  },
  {
   "cell_type": "code",
   "execution_count": null,
   "metadata": {},
   "outputs": [],
   "source": [
    "from aiidalab_widgets_base.utils.loaders import load_css\n",
    "\n",
    "load_css(css_path=\"src/aiidalab_qe/app/static/styles\")"
   ]
  },
  {
   "cell_type": "code",
   "execution_count": null,
   "metadata": {},
   "outputs": [],
   "source": [
    "from aiidalab_qe.app.utils.search_jobs import CalculationHistory\n",
    "\n",
    "calculation_history = CalculationHistory()\n",
    "calculation_history.main"
   ]
  },
  {
   "cell_type": "code",
   "execution_count": null,
   "metadata": {},
   "outputs": [],
   "source": [
    "calculation_history.load_table()"
   ]
  }
 ],
 "metadata": {
  "kernelspec": {
   "display_name": "Python 3 (ipykernel)",
   "language": "python",
   "name": "python3"
  },
  "language_info": {
   "codemirror_mode": {
    "name": "ipython",
    "version": 3
   },
   "file_extension": ".py",
   "mimetype": "text/x-python",
   "name": "python",
   "nbconvert_exporter": "python",
   "pygments_lexer": "ipython3",
   "version": "3.9.13"
  }
 },
 "nbformat": 4,
 "nbformat_minor": 2
}
