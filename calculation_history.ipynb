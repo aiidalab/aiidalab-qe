{
 "cells": [
  {
   "cell_type": "code",
   "execution_count": null,
   "metadata": {},
   "outputs": [],
   "source": [
    "%%javascript\n",
    "IPython.OutputArea.prototype._should_scroll = function(lines) {\n",
    "    return false;\n",
    "}\n",
    "document.title='AiiDAlab QE | View history'"
   ]
  },
  {
   "cell_type": "code",
   "execution_count": null,
   "metadata": {},
   "outputs": [],
   "source": [
    "%%capture\n",
    "from aiida import load_profile\n",
    "\n",
    "load_profile()"
   ]
  },
  {
   "cell_type": "code",
   "execution_count": null,
   "metadata": {},
   "outputs": [],
   "source": [
    "%%capture\n",
    "from aiidalab_widgets_base.utils.loaders import load_css\n",
    "\n",
    "load_css(css_path=\"src/aiidalab_qe/app/static/styles\")"
   ]
  },
  {
   "cell_type": "markdown",
   "metadata": {},
   "source": [
    "# AiiDAlab Quantum ESPRESSO - Calculation history"
   ]
  },
  {
   "cell_type": "code",
   "execution_count": null,
   "metadata": {},
   "outputs": [],
   "source": [
    "import ipywidgets as ipw\n",
    "from importlib_resources import files\n",
    "from jinja2 import Environment\n",
    "\n",
    "from aiidalab_qe.app.static import templates\n",
    "from aiidalab_qe.common.infobox import InfoBox\n",
    "\n",
    "env = Environment()\n",
    "guide_template = (\n",
    "    files(templates).joinpath(\"calculation_history_guide.jinja\").read_text()\n",
    ")\n",
    "guide = ipw.HTML(env.from_string(guide_template).render())\n",
    "\n",
    "\n",
    "info_container = InfoBox(layout=ipw.Layout(margin=\"14px 2px 0\"))\n",
    "guide_toggle = ipw.ToggleButton(\n",
    "    layout=ipw.Layout(width=\"150px\"),\n",
    "    button_style=\"\",\n",
    "    icon=\"book\",\n",
    "    value=False,\n",
    "    description=\"Page guide\",\n",
    "    tooltip=\"Learn how to use the app\",\n",
    "    disabled=False,\n",
    ")\n",
    "\n",
    "\n",
    "def _on_guide_toggle(change: dict):\n",
    "    \"\"\"Toggle the guide section.\"\"\"\n",
    "    if change[\"new\"]:\n",
    "        info_container.children = [\n",
    "            guide,\n",
    "        ]\n",
    "        info_container.layout.display = \"flex\"\n",
    "    else:\n",
    "        info_container.children = []\n",
    "        info_container.layout.display = \"none\"\n",
    "\n",
    "\n",
    "guide_toggle.observe(\n",
    "    _on_guide_toggle,\n",
    "    \"value\",\n",
    ")\n",
    "\n",
    "controls = ipw.VBox(children=[guide_toggle, info_container])\n",
    "controls"
   ]
  },
  {
   "cell_type": "code",
   "execution_count": null,
   "metadata": {},
   "outputs": [],
   "source": [
    "from aiidalab_qe.app.utils.search_jobs import CalculationHistory\n",
    "\n",
    "calculation_history = CalculationHistory()\n",
    "calculation_history.main"
   ]
  },
  {
   "cell_type": "code",
   "execution_count": null,
   "metadata": {},
   "outputs": [],
   "source": [
    "calculation_history.load_table()"
   ]
  }
 ],
 "metadata": {
  "kernelspec": {
   "display_name": "base",
   "language": "python",
   "name": "python3"
  },
  "language_info": {
   "codemirror_mode": {
    "name": "ipython",
    "version": 3
   },
   "file_extension": ".py",
   "mimetype": "text/x-python",
   "name": "python",
   "nbconvert_exporter": "python",
   "pygments_lexer": "ipython3",
   "version": "3.9.13"
  }
 },
 "nbformat": 4,
 "nbformat_minor": 2
}
