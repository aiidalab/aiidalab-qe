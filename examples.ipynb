{
 "cells": [
  {
   "cell_type": "code",
   "execution_count": null,
   "metadata": {},
   "outputs": [],
   "source": [
    "from aiida import load_profile\n",
    "\n",
    "load_profile();"
   ]
  },
  {
   "cell_type": "code",
   "execution_count": null,
   "metadata": {},
   "outputs": [],
   "source": [
    "from aiidalab_widgets_base.utils.loaders import load_css\n",
    "\n",
    "load_css(css_path=\"src/aiidalab_qe/app/static/styles\")"
   ]
  },
  {
   "cell_type": "markdown",
   "metadata": {},
   "source": [
    "# Import example calculations\n",
    "\n",
    "We provide here a set of example calculations performed with the AiiDAlab Quantum ESPRESSO app for you to import into your AiiDA instance. You can choose one or more examples do import at a time.\n",
    "\n",
    "If you have any questions or issues with the examples, please open an issue in the [aiidalab-qe-examples](https://github.com/aiidalab/aiidalab-qe-examples) repository."
   ]
  },
  {
   "cell_type": "code",
   "execution_count": null,
   "metadata": {},
   "outputs": [],
   "source": [
    "from aiidalab_qe.common.widgets import ArchiveImporter\n",
    "\n",
    "importer = ArchiveImporter(\n",
    "    repo=\"aiidalab/aiidalab-qe-examples\",\n",
    "    branch=\"main\",\n",
    "    archive_list=\"examples_list.txt\",\n",
    "    archives_dir=\"examples\",\n",
    "    logger={\n",
    "        \"placeholder\": \"Archive importing output will be shown here.\",\n",
    "        \"clear_on_import\": True,\n",
    "    },\n",
    ")\n",
    "importer"
   ]
  },
  {
   "cell_type": "code",
   "execution_count": null,
   "metadata": {},
   "outputs": [],
   "source": [
    "importer.render()"
   ]
  }
 ],
 "metadata": {
  "kernelspec": {
   "display_name": "base",
   "language": "python",
   "name": "python3"
  },
  "language_info": {
   "codemirror_mode": {
    "name": "ipython",
    "version": 3
   },
   "file_extension": ".py",
   "mimetype": "text/x-python",
   "name": "python",
   "nbconvert_exporter": "python",
   "pygments_lexer": "ipython3",
   "version": "3.9.13"
  }
 },
 "nbformat": 4,
 "nbformat_minor": 2
}
