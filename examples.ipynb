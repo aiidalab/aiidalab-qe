{
 "cells": [
  {
   "cell_type": "code",
   "execution_count": null,
   "metadata": {
    "vscode": {
     "languageId": "javascript"
    }
   },
   "outputs": [],
   "source": [
    "%%javascript\n",
    "IPython.OutputArea.prototype._should_scroll = function(lines) {\n",
    "    return false;\n",
    "}\n",
    "document.title='AiiDAlab QE | Import examples'"
   ]
  },
  {
   "cell_type": "code",
   "execution_count": null,
   "metadata": {},
   "outputs": [],
   "source": [
    "%%capture\n",
    "from aiida import load_profile\n",
    "\n",
    "load_profile()"
   ]
  },
  {
   "cell_type": "code",
   "execution_count": null,
   "metadata": {},
   "outputs": [],
   "source": [
    "from aiidalab_widgets_base.utils.loaders import load_css\n",
    "\n",
    "load_css(css_path=\"src/aiidalab_qe/app/static/styles\")"
   ]
  },
  {
   "cell_type": "markdown",
   "metadata": {},
   "source": [
    "# AiiDAlab Quantum ESPRESSO - Example calculations\n",
    "\n",
    "We provide here a set of example calculations performed with the AiiDAlab Quantum ESPRESSO app for you to import into your AiiDA instance. Choose one or more examples to import, then click the **<span style=\"color: #4caf50;\"><i class=\"fa fa-download\"></i> Import</span>** button. A report on each import will be appended to the log below. At any point, you can click the **<span style=\"color: #ff7d17;\"><i class=\"fa fa-list\"></i> Calculation history</span>** button to view details of any calculation and launch it in an instance of the app to view its inputs and outputs.\n",
    "\n",
    "Other than the built-in core and electronic structure examples, other examples are provided by each external plugin. To access these examples, you will need to install the corresponding plugin. You can do so by visiting the **<span style=\"color: #0096dd;\"><i class=\"fa fa-cogs\"></i> Plugin manager</span>** page.\n"
   ]
  },
  {
   "cell_type": "code",
   "execution_count": null,
   "metadata": {},
   "outputs": [],
   "source": [
    "import ipywidgets as ipw\n",
    "\n",
    "from aiidalab_qe.common.widgets import LinkButton\n",
    "\n",
    "ipw.HBox(\n",
    "    children=[\n",
    "        LinkButton(\n",
    "            description=\"Calculation history\",\n",
    "            link=\"./calculation_history.ipynb\",\n",
    "            style_=\"background-color: var(--color-aiida-orange)\",\n",
    "            icon=\"list\",\n",
    "        ),\n",
    "        LinkButton(\n",
    "            description=\"Plugin manager\",\n",
    "            link=\"./plugin_manager.ipynb\",\n",
    "            style_=\"background-color: var(--color-aiida-blue)\",\n",
    "            icon=\"cogs\",\n",
    "        ),\n",
    "    ]\n",
    ")"
   ]
  },
  {
   "cell_type": "code",
   "execution_count": null,
   "metadata": {},
   "outputs": [],
   "source": [
    "from aiidalab_qe.app.utils.examples_importer import ExamplesImporter\n",
    "\n",
    "# Tag rules w.r.t the examples REPO (for devs):\n",
    "# - New examples added - no change here (REPO updates tag to HEAD)\n",
    "# - Examples rerun due to changes here or in plugin - use new tag (new REPO version)\n",
    "\n",
    "importer = ExamplesImporter(\n",
    "    repo=\"aiidalab/aiidalab-qe-examples\",\n",
    "    tag=\"2.0\",  # -> see rules above\n",
    ")\n",
    "importer"
   ]
  }
 ],
 "metadata": {
  "kernelspec": {
   "display_name": "base",
   "language": "python",
   "name": "python3"
  },
  "language_info": {
   "codemirror_mode": {
    "name": "ipython",
    "version": 3
   },
   "file_extension": ".py",
   "mimetype": "text/x-python",
   "name": "python",
   "nbconvert_exporter": "python",
   "pygments_lexer": "ipython3",
   "version": "3.9.13"
  }
 },
 "nbformat": 4,
 "nbformat_minor": 2
}
