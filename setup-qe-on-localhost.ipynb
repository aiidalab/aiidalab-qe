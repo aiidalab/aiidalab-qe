{
 "cells": [
  {
   "cell_type": "code",
   "execution_count": null,
   "id": "82502a0a",
   "metadata": {},
   "outputs": [],
   "source": [
    "from aiidalab_qe.setup_qe_on_localhost import QEInstallWidget\n",
    "\n",
    "qe_install_1 = QEInstallWidget(hide_by_default=False)\n",
    "qe_install_2 = QEInstallWidget(hide_by_default=False)\n",
    "display(qe_install_1, qe_install_2)"
   ]
  }
 ],
 "metadata": {
  "kernelspec": {
   "display_name": "Python 3 (ipykernel)",
   "language": "python",
   "name": "python3"
  },
  "language_info": {
   "codemirror_mode": {
    "name": "ipython",
    "version": 3
   },
   "file_extension": ".py",
   "mimetype": "text/x-python",
   "name": "python",
   "nbconvert_exporter": "python",
   "pygments_lexer": "ipython3",
   "version": "3.7.9"
  }
 },
 "nbformat": 4,
 "nbformat_minor": 5
}
