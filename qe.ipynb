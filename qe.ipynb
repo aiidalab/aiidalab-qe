{
 "cells": [
  {
   "cell_type": "code",
   "execution_count": null,
   "metadata": {
    "scrolled": false
   },
   "outputs": [],
   "source": [
    "import ipywidgets as ipw\n",
    "from aiidalab_widgets_base import CodQueryWidget, SmilesWidget, StructureExamplesWidget\n",
    "from aiidalab_widgets_base import StructureBrowserWidget, StructureManagerWidget, StructureUploadWidget\n",
    "#from aiidalab_optimade import OptimadeQueryWidget\n",
    "\n",
    "from wizard import WizardApp\n",
    "from structures import StructureSelectionStep\n",
    "from bands import ComputeBandsSubmitWidget\n",
    "\n",
    "from aiida.orm import StructureData\n",
    "\n",
    "\n",
    "# Create the application steps\n",
    "structure_manager_widget = StructureManagerWidget(\n",
    "    importers=[\n",
    "        StructureUploadWidget(title=\"From computer\"),\n",
    "        CodQueryWidget(title=\"COD\"),\n",
    "        StructureBrowserWidget(title=\"AiiDA database\"),\n",
    "#        OptimadeQueryWidget(title=\"OPTiMaDe\"),\n",
    "        SmilesWidget(title=\"SMILES\"),  # requires OpenBabel! \n",
    "        StructureExamplesWidget(\n",
    "            title=\"From Examples\",\n",
    "            examples=[\n",
    "                (\"Silicon\", \"miscellaneous/structures/Si.xyz\"),\n",
    "                (\"Silicon oxide\", \"miscellaneous/structures/SiO2.xyz\"),\n",
    "            ]),\n",
    "    ],\n",
    "    node_class='StructureData',\n",
    ")\n",
    "structure_selection_step = StructureSelectionStep(manager=structure_manager_widget)\n",
    "structure_selection_step.auto_next = True\n",
    "compute_bands_step = ComputeBandsSubmitWidget()\n",
    "\n",
    "# Link the application steps\n",
    "ipw.dlink((structure_selection_step, 'confirmed_structure'), (compute_bands_step, 'input_structure'))\n",
    "\n",
    "\n",
    "# Add the application steps to the application\n",
    "app = WizardApp(\n",
    "    steps=[\n",
    "        ('Select structure', structure_selection_step),\n",
    "        ('Compute bands', compute_bands_step)])\n",
    "compute_bands_step.callbacks.append(lambda _: app._update_titles())\n",
    "\n",
    "display(app)"
   ]
  }
 ],
 "metadata": {
  "kernelspec": {
   "display_name": "Python 3",
   "language": "python",
   "name": "python3"
  },
  "language_info": {
   "codemirror_mode": {
    "name": "ipython",
    "version": 3
   },
   "file_extension": ".py",
   "mimetype": "text/x-python",
   "name": "python",
   "nbconvert_exporter": "python",
   "pygments_lexer": "ipython3",
   "version": "3.7.4"
  }
 },
 "nbformat": 4,
 "nbformat_minor": 2
}
