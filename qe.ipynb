{
 "cells": [
  {
   "cell_type": "code",
   "execution_count": null,
   "metadata": {
    "scrolled": false
   },
   "outputs": [],
   "source": [
    "import ipywidgets as ipw\n",
    "\n",
    "from wizard import WizardApp\n",
    "from structures import StructureUploadComboWidget\n",
    "from relax import RelaxSubmitWidget\n",
    "from bands import ComputeBandsSubmitWidget\n",
    "\n",
    "from aiida.orm import StructureData\n",
    "\n",
    "\n",
    "# Create the application steps\n",
    "structure_selection_step = StructureUploadComboWidget(\n",
    "    examples=[\n",
    "        ('Diamond', 'miscellaneous/structures/diamond.cif'),\n",
    "        ('Gallium arsenide', 'miscellaneous/structures/GaAs.xyz'),\n",
    "        ('Silicon', 'miscellaneous/structures/Si.xyz'),\n",
    "        ('Silicon oxide', 'miscellaneous/structures/SiO2.xyz'),\n",
    "    ],\n",
    "    viewer=True)\n",
    "relax_step = RelaxSubmitWidget(allow_skip=True, has_next=True)\n",
    "compute_bands_step = ComputeBandsSubmitWidget()\n",
    "\n",
    "# Link the application steps\n",
    "ipw.dlink((structure_selection_step, 'confirmed_structure'), (relax_step, 'input_structure'))\n",
    "ipw.dlink((relax_step, 'output_structure'), (compute_bands_step, 'input_structure'))\n",
    "\n",
    "# Propagate the configuration from the relax step to the compute band gaps step.\n",
    "# TODO: uncomment when https://github.com/aiidalab/aiidalab-widgets-base/issues/60 is fixed.\n",
    "#ipw.dlink((relax_step.code_group, 'selected_code'), (compute_bands_step.code_group, 'selected_code'))\n",
    "ipw.dlink((relax_step.pseudo_family, 'value'), (compute_bands_step.pseudo_family, 'value'))\n",
    "ipw.dlink((relax_step.number_of_nodes, 'value'), (compute_bands_step.number_of_nodes, 'value'))\n",
    "ipw.dlink((relax_step.cpus_per_node, 'value'), (compute_bands_step.cpus_per_node, 'value'))\n",
    "\n",
    "# Add the application steps to the application\n",
    "app = WizardApp(\n",
    "    steps=[\n",
    "        ('Select structure', structure_selection_step),\n",
    "        ('Relax', relax_step),\n",
    "        ('Compute bands', compute_bands_step)])\n",
    "relax_step.callbacks.append(lambda _: app._update_titles())\n",
    "compute_bands_step.callbacks.append(lambda _: app._update_titles())\n",
    "\n",
    "display(app)"
   ]
  }
 ],
 "metadata": {
  "kernelspec": {
   "display_name": "Python 3",
   "language": "python",
   "name": "python3"
  },
  "language_info": {
   "codemirror_mode": {
    "name": "ipython",
    "version": 3
   },
   "file_extension": ".py",
   "mimetype": "text/x-python",
   "name": "python",
   "nbconvert_exporter": "python",
   "pygments_lexer": "ipython3",
   "version": "3.7.4"
  }
 },
 "nbformat": 4,
 "nbformat_minor": 2
}
