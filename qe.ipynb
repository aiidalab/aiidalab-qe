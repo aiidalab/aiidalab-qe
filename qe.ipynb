{
 "cells": [
  {
   "cell_type": "code",
   "execution_count": 1,
   "metadata": {},
   "outputs": [
    {
     "data": {
      "application/javascript": [
       "IPython.OutputArea.prototype._should_scroll = function(lines) {\n",
       "    return false;\n",
       "}\n"
      ],
      "text/plain": [
       "<IPython.core.display.Javascript object>"
      ]
     },
     "metadata": {},
     "output_type": "display_data"
    }
   ],
   "source": [
    "%%javascript\n",
    "IPython.OutputArea.prototype._should_scroll = function(lines) {\n",
    "    return false;\n",
    "}"
   ]
  },
  {
   "cell_type": "code",
   "execution_count": 2,
   "metadata": {},
   "outputs": [],
   "source": [
    "# Fix pybel import path\n",
    "try:\n",
    "    import sys\n",
    "    sys.modules['pybel'] = __import__('openbabel', globals(), locals(), ['pybel']).pybel\n",
    "except Exception:\n",
    "    pass"
   ]
  },
  {
   "cell_type": "code",
   "execution_count": 3,
   "metadata": {
    "scrolled": false
   },
   "outputs": [
    {
     "data": {
      "application/vnd.jupyter.widget-view+json": {
       "model_id": "5ce80f28c2a641168261f20698661f92",
       "version_major": 2,
       "version_minor": 0
      },
      "text/plain": []
     },
     "metadata": {},
     "output_type": "display_data"
    },
    {
     "name": "stdout",
     "output_type": "stream",
     "text": [
      "<generator object SubmitQeAppWorkChainStep._identify_submission_blockers at 0x7f586f947450>\n"
     ]
    },
    {
     "name": "stderr",
     "output_type": "stream",
     "text": [
      "/opt/conda/lib/python3.7/site-packages/aiida/orm/computers.py:786: AiidaDeprecationWarning: this method is deprecated, use the `hostname` property instead\n",
      "  warnings.warn('this method is deprecated, use the `hostname` property instead', AiidaDeprecationWarning)  # pylint: disable=no-member\n"
     ]
    },
    {
     "data": {
      "application/vnd.jupyter.widget-view+json": {
       "model_id": "0fdc91a5a6f64fc792c38e1c43f11c8a",
       "version_major": 2,
       "version_minor": 0
      },
      "text/plain": [
       "Output()"
      ]
     },
     "metadata": {},
     "output_type": "display_data"
    }
   ],
   "source": [
    "import ipywidgets as ipw\n",
    "from jinja2 import Environment\n",
    "from importlib_resources import files\n",
    "\n",
    "from aiida.orm import StructureData\n",
    "from aiida.orm import load_node\n",
    "from aiidalab_widgets_base import OptimadeQueryWidget\n",
    "from aiidalab_widgets_base import StructureBrowserWidget, StructureManagerWidget, StructureUploadWidget\n",
    "from aiidalab_widgets_base import WizardAppWidget\n",
    "from aiidalab_widgets_base.bug_report import install_create_github_issue_exception_handler\n",
    "\n",
    "from aiidalab_qe import static\n",
    "from aiidalab_qe.process import WorkChainSelector\n",
    "from aiidalab_qe.steps import SubmitQeAppWorkChainStep\n",
    "from aiidalab_qe.steps import ViewQeAppWorkChainStatusAndResultsStep\n",
    "from aiidalab_qe.structures import StructureSelectionStep\n",
    "\n",
    "\n",
    "OptimadeQueryWidget.title = \"OPTIMADE\"  # monkeypatch\n",
    "\n",
    "\n",
    "# Create the application steps\n",
    "structure_manager_widget = StructureManagerWidget(\n",
    "    importers=[\n",
    "        StructureUploadWidget(title=\"Upload file\"),\n",
    "        OptimadeQueryWidget(embedded=False),\n",
    "        StructureBrowserWidget(title=\"AiiDA database\"),\n",
    "    ],\n",
    "    node_class='StructureData',\n",
    "    storable=False,\n",
    ")\n",
    "structure_selection_step = StructureSelectionStep(manager=structure_manager_widget)\n",
    "structure_selection_step.auto_advance = True\n",
    "submit_qe_app_work_chain_step = SubmitQeAppWorkChainStep()\n",
    "submit_qe_app_work_chain_step.auto_advance = True\n",
    "submit_qe_app_work_chain_step.set_input_parameters_from_callback(jupyter_notebook_url)\n",
    "submit_qe_app_work_chain_step.submit_from_callback(jupyter_notebook_url)\n",
    "view_qe_app_work_chain_status_and_results_step = ViewQeAppWorkChainStatusAndResultsStep()\n",
    "\n",
    "\n",
    "# Link the application steps\n",
    "ipw.dlink((structure_selection_step, 'confirmed_structure'), (submit_qe_app_work_chain_step, 'input_structure'))\n",
    "ipw.dlink((submit_qe_app_work_chain_step, 'process'), (view_qe_app_work_chain_status_and_results_step, 'process'))\n",
    "\n",
    "# Add the application steps to the application\n",
    "app = WizardAppWidget(\n",
    "    steps=[\n",
    "        ('Select structure', structure_selection_step),\n",
    "        ('Submit work chain', submit_qe_app_work_chain_step),\n",
    "        ('Status & Results', view_qe_app_work_chain_status_and_results_step),\n",
    "    ])\n",
    "\n",
    "# Reset all subsequent steps in case that a new structure is selected\n",
    "def _observe_structure_selection(change):\n",
    "    with structure_selection_step.hold_sync():\n",
    "        if structure_selection_step.confirmed_structure is not None and \\\n",
    "                structure_selection_step.confirmed_structure != change['new']:\n",
    "            app.reset()\n",
    "structure_selection_step.observe(_observe_structure_selection, 'structure')\n",
    "\n",
    "# Add process selection header\n",
    "work_chain_selector = WorkChainSelector(layout=ipw.Layout(width='auto'))\n",
    "\n",
    "def _observe_process_selection(change):\n",
    "    if change['old'] == change['new']:\n",
    "        return\n",
    "    pk = change['new']\n",
    "    if pk is None:\n",
    "        app.reset()\n",
    "        app.selected_index = 0\n",
    "    else:\n",
    "        process = load_node(pk)\n",
    "        with structure_manager_widget.hold_sync():\n",
    "            with structure_selection_step.hold_sync():\n",
    "                structure_manager_widget.structure = process.inputs.structure\n",
    "                structure_selection_step.structure = process.inputs.structure\n",
    "                structure_selection_step.confirmed_structure = process.inputs.structure\n",
    "                submit_qe_app_work_chain_step.process = process\n",
    "        \n",
    "work_chain_selector.observe(_observe_process_selection, 'value')    \n",
    "ipw.dlink((submit_qe_app_work_chain_step, 'process'), (work_chain_selector, 'value'),\n",
    "          transform=lambda node: None if node is None else node.pk)\n",
    "\n",
    "env = Environment()\n",
    "\n",
    "template = files(static).joinpath(\"welcome.jinja\").read_text()\n",
    "style = files(static).joinpath(\"style.css\").read_text()\n",
    "welcome_message = ipw.HTML(env.from_string(template).render(style=style))\n",
    "\n",
    "app_with_work_chain_selector = ipw.VBox(children=[work_chain_selector, app])\n",
    "\n",
    "output = ipw.Output()\n",
    "install_create_github_issue_exception_handler(\n",
    "    output,\n",
    "    url='https://github.com/aiidalab/aiidalab-qe/issues/new',\n",
    "    labels=('bug', 'automated-report'))\n",
    "\n",
    "with output:\n",
    "    display(welcome_message, app_with_work_chain_selector)\n",
    "    \n",
    "display(output)"
   ]
  },
  {
   "cell_type": "code",
   "execution_count": 4,
   "metadata": {},
   "outputs": [
    {
     "data": {
      "text/plain": [
       "<bound method SubmitQeAppWorkChainStep._identify_submission_blockers of SubmitQeAppWorkChainStep(children=(Output(), Tab(children=(WorkChainSettings(children=(HTML(value='<div style=\"padding-top: 0px; padding-bottom: 0px\">\\n        <h4>Structure</h4></div>'), HTML(value='<div style=\"line-height: 140%; padding-top: 0px; padding-bottom: 5px\">\\n        By default, the workflow will optimize the provided geometry. Select \"Structure\\n        as is\" if this is not desired. You can either optimize the atomic positions (\"Full geometry\")\\n        and unit cell, or atomic positions only (\"Atomic positions\"). </div>'), ToggleButtons(index=2, options=(('Structure as is', 'none'), ('Atomic positions', 'positions'), ('Full geometry', 'positions_cell')), value='positions_cell'), HTML(value='<div style=\"line-height: 140%; padding-top: 10px; padding-bottom: 10px\">\\n        Below you can indicate both if the material is magnetic and a metal or insulator. For now only ferromagnetic configurations are possible, since antiferromagnetism is more complicated to study automatically. If you\\'re not sure whether your material is insulating, choose \"Metal\", since the corresponding settings usually also work quite well for insulators.\\n        </div>'), Dropdown(description='Magnetism:', options=(('Non-magnetic', 'none'), ('Ferromagnetic', 'collinear')), style=DescriptionStyle(description_width='initial'), value='none'), Dropdown(description='Electronic Type:', options=(('Metal', 'metal'), ('Insulator', 'insulator')), style=DescriptionStyle(description_width='initial'), value='metal'), HTML(value='<div style=\"padding-top: 0px; padding-bottom: 0px\">\\n        <h4>Properties</h4></div>'), HTML(value='Select which properties to calculate:'), HBox(children=(HTML(value='<b>Band structure</b>'), Checkbox(value=False, indent=False, layout=Layout(max_width='10%')))), HTML(value='<div style=\"line-height: 140%; padding-top: 10px; padding-bottom: 0px\">\\n        The band structure workflow will\\n        automatically detect the default path in reciprocal space using the\\n        <a href=\"https://www.materialscloud.org/work/tools/seekpath\" target=\"_blank\">\\n        SeeK-path tool</a>.</div>'), HTML(value='<div style=\"padding-top: 0px; padding-bottom: 0px\">\\n        <h4>Protocol</h4></div>'), HTML(value='Select the protocol:', layout=Layout(flex='1 1 auto')), ToggleButtons(index=1, options=('fast', 'moderate', 'precise'), value='moderate'), HTML(value='<div style=\"line-height: 140%; padding-top: 6px; padding-bottom: 0px\">\\n        The \"moderate\" protocol represents a balanced trade-off between\\n        accuracy and speed. Choose the \"fast\" protocol for a faster calculation\\n        with less precision and the \"precise\" protocol that provides more\\n        accuracy but will take longer.</div>'))),), layout=Layout(min_height='250px'), _titles={'0': 'Workflow'}), HTML(value='\\n                <div class=\"alert alert-info\">\\n                <strong>The submission is blocked, due to the following reason(s):</strong>\\n                <ul><li>No structure selected.</li></ul></div>'), HBox(children=(Button(button_style='success', description='Submit', disabled=True, icon='play', layout=Layout(flex='1 1 auto', width='auto'), style=ButtonStyle(), tooltip='Submit the calculation with the selected parameters.'), ToggleButton(value=False, description='Expert mode', tooltip='Activate Expert mode for access to advanced settings.')))))>"
      ]
     },
     "execution_count": 4,
     "metadata": {},
     "output_type": "execute_result"
    }
   ],
   "source": [
    "submit_qe_app_work_chain_step._identify_submission_blockers1"
   ]
  }
 ],
 "metadata": {
  "kernelspec": {
   "display_name": "Python 3 (ipykernel)",
   "language": "python",
   "name": "python3"
  },
  "language_info": {
   "codemirror_mode": {
    "name": "ipython",
    "version": 3
   },
   "file_extension": ".py",
   "mimetype": "text/x-python",
   "name": "python",
   "nbconvert_exporter": "python",
   "pygments_lexer": "ipython3",
   "version": "3.7.9"
  }
 },
 "nbformat": 4,
 "nbformat_minor": 4
}
