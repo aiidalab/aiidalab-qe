{
 "cells": [
  {
   "cell_type": "code",
   "execution_count": 1,
   "metadata": {},
   "outputs": [
    {
     "data": {
      "application/javascript": [
       "IPython.OutputArea.prototype._should_scroll = function(lines) {\n",
       "    return false;\n",
       "}\n",
       "document.title='AiiDAlab QE app'\n"
      ],
      "text/plain": [
       "<IPython.core.display.Javascript object>"
      ]
     },
     "metadata": {},
     "output_type": "display_data"
    }
   ],
   "source": [
    "%%javascript\n",
    "IPython.OutputArea.prototype._should_scroll = function(lines) {\n",
    "    return false;\n",
    "}\n",
    "document.title='AiiDAlab QE app'"
   ]
  },
  {
   "cell_type": "code",
   "execution_count": 2,
   "metadata": {},
   "outputs": [],
   "source": [
    "# Fix pybel import path\n",
    "try:\n",
    "    import sys\n",
    "    sys.modules['pybel'] = __import__('openbabel', globals(), locals(), ['pybel']).pybel\n",
    "except Exception:\n",
    "    pass"
   ]
  },
  {
   "cell_type": "code",
   "execution_count": 3,
   "metadata": {},
   "outputs": [],
   "source": [
    "import os\n",
    "os.environ[\"AIIDA_WARN_v3\"] = \"1\""
   ]
  },
  {
   "cell_type": "code",
   "execution_count": 4,
   "metadata": {
    "scrolled": false
   },
   "outputs": [
    {
     "name": "stderr",
     "output_type": "stream",
     "text": [
      "/opt/conda/lib/python3.9/site-packages/aiida/orm/nodes/data/code/legacy.py:23: AiidaDeprecationWarning: The `Code` class is deprecated. To create an instance, use the `aiida.orm.nodes.data.code.installed.InstalledCode` or `aiida.orm.nodes.data.code.portable.PortableCode` for a \"remote\" or \"local\" code, respectively. If you are using this class to compare type, e.g. in `isinstance`, use `aiida.orm.nodes.data.code.abstract.AbstractCode`. (this will be removed in v3)\n",
      "  warn_deprecation(\n",
      "/opt/conda/lib/python3.9/site-packages/aiida/orm/utils/builders/code.py:19: AiidaDeprecationWarning: This module is deprecated. To create a new code instance, simply use the constructor. (this will be removed in v3)\n",
      "  warn_deprecation('This module is deprecated. To create a new code instance, simply use the constructor.', version=3)\n"
     ]
    },
    {
     "data": {
      "application/vnd.jupyter.widget-view+json": {
       "model_id": "f17c6bb582de487ea6f9196a1b315165",
       "version_major": 2,
       "version_minor": 0
      },
      "text/plain": []
     },
     "metadata": {},
     "output_type": "display_data"
    },
    {
     "name": "stderr",
     "output_type": "stream",
     "text": [
      "/opt/conda/lib/python3.9/site-packages/aiida/cmdline/utils/query/calculation.py:15: AiidaDeprecationWarning: This module is deprecated, use `aiida.tools.query.calculation` instead. (this will be removed in v3)\n",
      "  warn_deprecation('This module is deprecated, use `aiida.tools.query.calculation` instead.', version=3)\n",
      "/opt/conda/lib/python3.9/site-packages/aiida/cmdline/utils/query/formatting.py:15: AiidaDeprecationWarning: This module is deprecated, use `aiida.tools.query.formatting` instead. (this will be removed in v3)\n",
      "  warn_deprecation('This module is deprecated, use `aiida.tools.query.formatting` instead.', version=3)\n",
      "/opt/conda/lib/python3.9/site-packages/aiida/plugins/entry_point.py:310: AiidaDeprecationWarning: The entry point `structure` is deprecated. Please replace it with `core.structure`. (this will be removed in v3)\n",
      "  warn_deprecation(\n",
      "/opt/conda/lib/python3.9/site-packages/aiida/plugins/entry_point.py:310: AiidaDeprecationWarning: The entry point `float` is deprecated. Please replace it with `core.float`. (this will be removed in v3)\n",
      "  warn_deprecation(\n",
      "/opt/conda/lib/python3.9/site-packages/aiida/plugins/entry_point.py:310: AiidaDeprecationWarning: The entry point `dict` is deprecated. Please replace it with `core.dict`. (this will be removed in v3)\n",
      "  warn_deprecation(\n",
      "/opt/conda/lib/python3.9/site-packages/aiida/plugins/entry_point.py:310: AiidaDeprecationWarning: The entry point `str` is deprecated. Please replace it with `core.str`. (this will be removed in v3)\n",
      "  warn_deprecation(\n"
     ]
    },
    {
     "data": {
      "application/vnd.jupyter.widget-view+json": {
       "model_id": "ce3c3a2503cb4e359ff3e3b255a1db7b",
       "version_major": 2,
       "version_minor": 0
      },
      "text/plain": [
       "Output()"
      ]
     },
     "metadata": {},
     "output_type": "display_data"
    }
   ],
   "source": [
    "import ipywidgets as ipw\n",
    "from jinja2 import Environment\n",
    "from importlib_resources import files\n",
    "\n",
    "from aiida.orm import StructureData\n",
    "from aiida.orm import load_node\n",
    "from aiidalab_widgets_base import OptimadeQueryWidget, StructureExamplesWidget\n",
    "from aiidalab_widgets_base import StructureBrowserWidget, StructureManagerWidget, StructureUploadWidget, BasicStructureEditor, BasicCellEditor\n",
    "from aiidalab_widgets_base import WizardAppWidget, WizardAppWidgetStep\n",
    "from aiidalab_widgets_base.bug_report import install_create_github_issue_exception_handler\n",
    "\n",
    "from aiidalab_qe import static\n",
    "from aiidalab_qe.process import WorkChainSelector\n",
    "from aiidalab_qe.steps import ConfigureQeAppWorkChainStep\n",
    "from aiidalab_qe.steps import SubmitQeAppWorkChainStep\n",
    "from aiidalab_qe.steps import ViewQeAppWorkChainStatusAndResultsStep\n",
    "from aiidalab_qe.structures import StructureSelectionStep, Examples\n",
    "from aiidalab_qe.version import __version__\n",
    "\n",
    "\n",
    "OptimadeQueryWidget.title = \"OPTIMADE\"  # monkeypatch\n",
    "\n",
    "\n",
    "# Create the application steps\n",
    "structure_manager_widget = StructureManagerWidget(\n",
    "    importers=[\n",
    "        StructureUploadWidget(title=\"Upload file\"),\n",
    "        OptimadeQueryWidget(embedded=False),\n",
    "        StructureBrowserWidget(title=\"AiiDA database\"),\n",
    "        StructureExamplesWidget(title=\"From Examples\", examples=Examples),\n",
    "    ],\n",
    "    editors=[\n",
    "        BasicCellEditor(title=\"Edit cell\"),\n",
    "        BasicStructureEditor(title=\"Edit structure\"),\n",
    "    ],\n",
    "    node_class='StructureData',\n",
    "    storable=False,\n",
    "    configuration_tabs=[\"Cell\", \"Selection\", \"Appearance\", \"Download\"],\n",
    ")\n",
    "structure_selection_step = StructureSelectionStep(manager=structure_manager_widget, auto_advance=True)\n",
    "configure_qe_app_work_chain_step = ConfigureQeAppWorkChainStep(auto_advance=True)\n",
    "submit_qe_app_work_chain_step = SubmitQeAppWorkChainStep(auto_advance=True)\n",
    "view_qe_app_work_chain_status_and_results_step = ViewQeAppWorkChainStatusAndResultsStep()\n",
    "\n",
    "# Link the application steps\n",
    "ipw.dlink((structure_selection_step, 'state'), (configure_qe_app_work_chain_step, 'previous_step_state'))\n",
    "ipw.dlink((structure_selection_step, 'confirmed_structure'), (submit_qe_app_work_chain_step, 'input_structure'))\n",
    "ipw.dlink((configure_qe_app_work_chain_step, 'state'), (submit_qe_app_work_chain_step, 'previous_step_state'))\n",
    "ipw.dlink((configure_qe_app_work_chain_step, 'workchain_settings'), (submit_qe_app_work_chain_step, 'workchain_settings'))\n",
    "ipw.dlink((configure_qe_app_work_chain_step, 'kpoints_settings'), (submit_qe_app_work_chain_step, 'kpoints_settings'))\n",
    "ipw.dlink((configure_qe_app_work_chain_step, 'smearing_settings'), (submit_qe_app_work_chain_step, 'smearing_settings'))\n",
    "ipw.dlink((configure_qe_app_work_chain_step, 'pseudo_family_selector'), (submit_qe_app_work_chain_step, 'pseudo_family_selector'))\n",
    "\n",
    "ipw.dlink((submit_qe_app_work_chain_step, 'process'), (view_qe_app_work_chain_status_and_results_step, 'process'), transform=lambda node: node.uuid if node is not None else None)\n",
    "\n",
    "# Add the application steps to the application\n",
    "app = WizardAppWidget(\n",
    "    steps=[\n",
    "        ('Select structure', structure_selection_step),\n",
    "        ('Configure workflow', configure_qe_app_work_chain_step),\n",
    "        ('Choose computational resources', submit_qe_app_work_chain_step),\n",
    "        ('Status & Results', view_qe_app_work_chain_status_and_results_step),\n",
    "    ])\n",
    "\n",
    "# Reset all subsequent steps in case that a new structure is selected\n",
    "def _observe_structure_selection(change):\n",
    "    with structure_selection_step.hold_sync():\n",
    "        if structure_selection_step.confirmed_structure is not None and \\\n",
    "                structure_selection_step.confirmed_structure != change['new']:\n",
    "            app.reset()\n",
    "structure_selection_step.observe(_observe_structure_selection, 'structure')\n",
    "\n",
    "# Add process selection header\n",
    "work_chain_selector = WorkChainSelector(layout=ipw.Layout(width='auto'))\n",
    "\n",
    "def _observe_process_selection(change):\n",
    "    if change['old'] == change['new']:\n",
    "        return\n",
    "    pk = change['new']\n",
    "    if pk is None:\n",
    "        app.reset()\n",
    "        app.selected_index = 0\n",
    "    else:\n",
    "        process = load_node(pk)\n",
    "        with structure_manager_widget.hold_sync():\n",
    "            with structure_selection_step.hold_sync():\n",
    "                app.selected_index = 3\n",
    "                structure_manager_widget.input_structure = process.inputs.structure\n",
    "                structure_selection_step.structure = process.inputs.structure\n",
    "                structure_selection_step.confirmed_structure = process.inputs.structure\n",
    "                configure_qe_app_work_chain_step.state = WizardAppWidgetStep.State.SUCCESS\n",
    "                submit_qe_app_work_chain_step.process = process\n",
    "\n",
    "        \n",
    "work_chain_selector.observe(_observe_process_selection, 'value')    \n",
    "ipw.dlink((submit_qe_app_work_chain_step, 'process'), (work_chain_selector, 'value'),\n",
    "          transform=lambda node: None if node is None else node.pk)\n",
    "\n",
    "env = Environment()\n",
    "\n",
    "template = files(static).joinpath(\"welcome.jinja\").read_text()\n",
    "style = files(static).joinpath(\"style.css\").read_text()\n",
    "welcome_message = ipw.HTML(env.from_string(template).render(style=style))\n",
    "footer = ipw.HTML(f'<p style=\"text-align:right;\">Copyright (c) 2022 AiiDAlab team (EPFL)&#8195Version: {__version__}</p>')\n",
    "\n",
    "app_with_work_chain_selector = ipw.VBox(children=[work_chain_selector, app])\n",
    "\n",
    "output = ipw.Output()\n",
    "install_create_github_issue_exception_handler(\n",
    "    output,\n",
    "    url='https://github.com/aiidalab/aiidalab-qe/issues/new',\n",
    "    labels=('bug', 'automated-report'))\n",
    "\n",
    "with output:\n",
    "    display(welcome_message, app_with_work_chain_selector, footer)\n",
    "    \n",
    "display(output)"
   ]
  },
  {
   "cell_type": "code",
   "execution_count": null,
   "metadata": {},
   "outputs": [],
   "source": []
  }
 ],
 "metadata": {
  "kernelspec": {
   "display_name": "Python 3",
   "language": "python",
   "name": "python3"
  },
  "language_info": {
   "codemirror_mode": {
    "name": "ipython",
    "version": 3
   },
   "file_extension": ".py",
   "mimetype": "text/x-python",
   "name": "python",
   "nbconvert_exporter": "python",
   "pygments_lexer": "ipython3",
   "version": "3.9.4"
  },
  "vscode": {
   "interpreter": {
    "hash": "d4d1e4263499bec80672ea0156c357c1ee493ec2b1c70f0acce89fc37c4a6abe"
   }
  }
 },
 "nbformat": 4,
 "nbformat_minor": 4
}
