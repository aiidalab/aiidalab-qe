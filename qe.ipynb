{
 "cells": [
  {
   "cell_type": "code",
   "execution_count": null,
   "metadata": {},
   "outputs": [],
   "source": [
    "%%javascript\n",
    "IPython.OutputArea.prototype._should_scroll = function(lines) {\n",
    "    return false;\n",
    "}\n",
    "document.title='AiiDAlab QE app'"
   ]
  },
  {
   "cell_type": "code",
   "execution_count": null,
   "metadata": {},
   "outputs": [],
   "source": [
    "from aiida import load_profile\n",
    "\n",
    "load_profile(); # noqa: E402"
   ]
  },
  {
   "cell_type": "code",
   "execution_count": null,
   "metadata": {},
   "outputs": [],
   "source": [
    "# Fix pybel import path\n",
    "try:\n",
    "    import sys\n",
    "\n",
    "    sys.modules[\"pybel\"] = __import__(\"openbabel\", globals(), locals(), [\"pybel\"]).pybel\n",
    "except Exception:\n",
    "    pass\n",
    "\n",
    "import urllib.parse as urlparse\n",
    "from datetime import datetime\n",
    "\n",
    "import ipywidgets as ipw\n",
    "from aiidalab_widgets_base.bug_report import (\n",
    "    install_create_github_issue_exception_handler,\n",
    ")\n",
    "from importlib_resources import files\n",
    "from IPython.display import display\n",
    "from jinja2 import Environment\n",
    "\n",
    "from aiidalab_qe.app import App, static\n",
    "from aiidalab_qe.version import __version__"
   ]
  },
  {
   "cell_type": "code",
   "execution_count": null,
   "metadata": {},
   "outputs": [],
   "source": [
    "env = Environment()\n",
    "\n",
    "template = files(static).joinpath(\"welcome.jinja\").read_text()\n",
    "style = files(static).joinpath(\"style.css\").read_text()\n",
    "welcome_message = ipw.HTML(env.from_string(template).render(style=style))\n",
    "current_year = datetime.now().year\n",
    "footer = ipw.HTML(\n",
    "    f'<p style=\"text-align:right;\">Copyright (c) {current_year} AiiDAlab team &#8195Version: {__version__}</p>'\n",
    ")\n",
    "\n",
    "url = urlparse.urlsplit(jupyter_notebook_url) # noqa F821\n",
    "query = urlparse.parse_qs(url.query)\n",
    "\n",
    "\n",
    "app_with_work_chain_selector = App(qe_auto_setup=True)\n",
    "# if a pk is provided in the query string, set it as the value of the work_chain_selector\n",
    "if 'pk' in query:\n",
    "    pk = int(query['pk'][0])\n",
    "    app_with_work_chain_selector.work_chain_selector.value = pk\n",
    "\n",
    "output = ipw.Output()\n",
    "install_create_github_issue_exception_handler(\n",
    "    output,\n",
    "    url=\"https://github.com/aiidalab/aiidalab-qe/issues/new\",\n",
    "    labels=(\"bug\", \"automated-report\"),\n",
    ")\n",
    "\n",
    "with output:\n",
    "    display(welcome_message, app_with_work_chain_selector, footer)\n",
    "\n",
    "display(output)"
   ]
  }
 ],
 "metadata": {
  "kernelspec": {
   "display_name": "Python 3 (ipykernel)",
   "language": "python",
   "name": "python3"
  },
  "language_info": {
   "codemirror_mode": {
    "name": "ipython",
    "version": 3
   },
   "file_extension": ".py",
   "mimetype": "text/x-python",
   "name": "python",
   "nbconvert_exporter": "python",
   "pygments_lexer": "ipython3",
   "version": "3.9.13"
  },
  "vscode": {
   "interpreter": {
    "hash": "d4d1e4263499bec80672ea0156c357c1ee493ec2b1c70f0acce89fc37c4a6abe"
   }
  }
 },
 "nbformat": 4,
 "nbformat_minor": 4
}
