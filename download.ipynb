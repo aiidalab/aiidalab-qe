{
 "cells": [
  {
   "cell_type": "markdown",
   "metadata": {},
   "source": [
    "# AiiDAlab Quantum ESPRESSO App"
   ]
  },
  {
   "cell_type": "code",
   "execution_count": null,
   "metadata": {},
   "outputs": [],
   "source": [
    "%%capture\n",
    "from aiida import load_profile\n",
    "\n",
    "# Load AiiDA profile\n",
    "load_profile()"
   ]
  },
  {
   "cell_type": "code",
   "execution_count": null,
   "metadata": {},
   "outputs": [],
   "source": [
    "from aiidalab_widgets_base.utils.loaders import load_css\n",
    "\n",
    "load_css(css_path=\"src/aiidalab_qe/app/static/styles\")"
   ]
  },
  {
   "cell_type": "code",
   "execution_count": null,
   "metadata": {},
   "outputs": [],
   "source": [
    "import urllib.parse as urlparse\n",
    "\n",
    "from aiida.orm import load_node\n",
    "from aiidalab_qe.app.result.utils.download_data import DownloadDataWidget\n",
    "\n",
    "# Parse the primary key from the Jupyter notebook URL\n",
    "url = urlparse.urlsplit(jupyter_notebook_url)  # noqa F821\n",
    "query = urlparse.parse_qs(url.query)\n",
    "pk = int(query[\"pk\"][0])\n",
    "\n",
    "\n",
    "node = load_node(pk)\n",
    "\n",
    "download_button_widget = DownloadDataWidget(workchain_node=node)\n",
    "download_button_widget"
   ]
  }
 ],
 "metadata": {
  "kernelspec": {
   "display_name": "Python 3 (ipykernel)",
   "language": "python",
   "name": "python3"
  },
  "language_info": {
   "codemirror_mode": {
    "name": "ipython",
    "version": 3
   },
   "file_extension": ".py",
   "mimetype": "text/x-python",
   "name": "python",
   "nbconvert_exporter": "python",
   "pygments_lexer": "ipython3",
   "version": "3.9.13"
  }
 },
 "nbformat": 4,
 "nbformat_minor": 2
}
