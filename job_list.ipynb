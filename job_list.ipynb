{
 "cells": [
  {
   "cell_type": "markdown",
   "metadata": {},
   "source": [
    "# AiiDAlab QauntumESPRESSO App\n",
    "\n",
    "## Job List\n"
   ]
  },
  {
   "cell_type": "code",
   "execution_count": null,
   "metadata": {},
   "outputs": [],
   "source": [
    "import ipywidgets as ipw\n",
    "from aiida import load_profile\n",
    "from aiida.tools.query.calculation import CalculationQueryBuilder\n",
    "\n",
    "load_profile()\n",
    "\n",
    "\n",
    "process_label = \"QeAppWorkChain\"\n",
    "projections = [\"pk\", \"ctime\", \"state\", \"label\"]\n",
    "\n",
    "\n",
    "def query_data():\n",
    "    builder = CalculationQueryBuilder()\n",
    "    filters = builder.get_filters(\n",
    "        process_label=process_label,\n",
    "    )\n",
    "    query_set = builder.get_query_set(\n",
    "        filters=filters,\n",
    "        order_by={\"ctime\": \"desc\"},\n",
    "    )\n",
    "    projected = builder.get_projected(\n",
    "        query_set,\n",
    "        projections=projections,\n",
    "    )\n",
    "    return projected\n",
    "\n",
    "\n",
    "table = ipw.HTML()\n",
    "\n",
    "table.value = \"\"\"\n",
    "        <style>\n",
    "            .df { border: none; }\n",
    "            .df tbody tr:nth-child(odd) { background-color: #e5e7e9; }\n",
    "            .df tbody tr:nth-child(odd):hover { background-color:   #f5b7b1; }\n",
    "            .df tbody tr:nth-child(even):hover { background-color:  #f5b7b1; }\n",
    "            .df tbody td { min-width: 80px; text-align: center; border: none }\n",
    "            .df th { text-align: center; border: none;  border-bottom: 1px solid black;}\n",
    "        </style>\n",
    "        \"\"\"\n",
    "\n",
    "# use pandas to create a dataframe from the query data\n",
    "import pandas as pd\n",
    "\n",
    "df = pd.DataFrame(query_data()[1:], columns=projections)\n",
    "\n",
    "# add a column to the dataframe with a button to delete the archive\n",
    "for index, row in df.iterrows():\n",
    "    pk = row['pk']\n",
    "    df.at[index, \"formula\"] = row['label'].split(\"structure\")[-0]\n",
    "    df.at[index, \"relaxed\"] = \"is relaxed\" in row['label']\n",
    "    df.at[index, \"properties\"] = row['label'].split(\"properties on\")[-1]\n",
    "    df.at[index, 'Delete'] = f\"\"\"<a href=\"./delete.ipynb?pk={pk}\" target=\"_blank\">Delete</a>\"\"\"\n",
    "    df.at[index, 'Inspect'] = f\"\"\"<a href=\"./qe.ipynb?pk={pk}\" target=\"_blank\">Inspect</a>\"\"\"\n",
    "\n",
    "# delete the label column\n",
    "df = df.drop(columns=['label'])\n",
    "\n",
    "table.value += df.to_html(classes=\"df\", escape=False, index=False)\n",
    "table"
   ]
  }
 ],
 "metadata": {
  "kernelspec": {
   "display_name": "Python 3 (ipykernel)",
   "language": "python",
   "name": "python3"
  },
  "language_info": {
   "codemirror_mode": {
    "name": "ipython",
    "version": 3
   },
   "file_extension": ".py",
   "mimetype": "text/x-python",
   "name": "python",
   "nbconvert_exporter": "python",
   "pygments_lexer": "ipython3",
   "version": "3.9.13"
  }
 },
 "nbformat": 4,
 "nbformat_minor": 2
}
