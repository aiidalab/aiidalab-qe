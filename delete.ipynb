{
 "cells": [
  {
   "cell_type": "markdown",
   "metadata": {},
   "source": [
    "# AiiDAlab QauntumESPRESSO App"
   ]
  },
  {
   "cell_type": "code",
   "execution_count": null,
   "metadata": {},
   "outputs": [],
   "source": [
    "import urllib.parse as urlparse\n",
    "\n",
    "from aiida import load_profile\n",
    "from aiida.tools import delete_nodes\n",
    "\n",
    "url = urlparse.urlsplit(jupyter_notebook_url) # noqa F821\n",
    "query = urlparse.parse_qs(url.query)\n",
    "pk = int(query['pk'][0])\n",
    "\n",
    "\n",
    "def delete_node(pk):\n",
    "    load_profile()\n",
    "    ## delete the group\n",
    "    _, was_deleted = delete_nodes([pk], dry_run=False)\n",
    "\n",
    "    if was_deleted:\n",
    "\n",
    "        print(f'Node {pk} deleted.')\n",
    "\n",
    "# Ask for confirmation\n",
    "if input(f'Do you really want to delete node {pk}? [y/N] ').strip().lower() == 'y':\n",
    "    delete_node(pk)\n",
    "else:\n",
    "    print('Deletion aborted.')"
   ]
  }
 ],
 "metadata": {
  "kernelspec": {
   "display_name": "Python 3 (ipykernel)",
   "language": "python",
   "name": "python3"
  },
  "language_info": {
   "codemirror_mode": {
    "name": "ipython",
    "version": 3
   },
   "file_extension": ".py",
   "mimetype": "text/x-python",
   "name": "python",
   "nbconvert_exporter": "python",
   "pygments_lexer": "ipython3",
   "version": "3.9.13"
  }
 },
 "nbformat": 4,
 "nbformat_minor": 2
}
